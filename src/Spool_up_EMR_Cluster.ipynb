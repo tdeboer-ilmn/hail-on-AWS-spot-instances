{
 "cells": [
  {
   "cell_type": "markdown",
   "id": "tamil-tamil",
   "metadata": {},
   "source": [
    "# Spool up EMR Cluster"
   ]
  },
  {
   "cell_type": "code",
   "execution_count": 1,
   "id": "favorite-allowance",
   "metadata": {},
   "outputs": [],
   "source": [
    "import boto3\n",
    "import time\n",
    "import sys\n",
    "import botocore\n",
    "import paramiko\n",
    "import re\n",
    "import os\n",
    "import yaml, re"
   ]
  },
  {
   "cell_type": "code",
   "execution_count": 2,
   "id": "hearing-editor",
   "metadata": {},
   "outputs": [
    {
     "data": {
      "text/plain": [
       "'/data/hail-on-AWS-spot-instances/src'"
      ]
     },
     "execution_count": 2,
     "metadata": {},
     "output_type": "execute_result"
    }
   ],
   "source": [
    "PATH = os.path.abspath(os.getcwd())\n",
    "PATH"
   ]
  },
  {
   "cell_type": "code",
   "execution_count": 3,
   "id": "voluntary-buddy",
   "metadata": {},
   "outputs": [
    {
     "name": "stdout",
     "output_type": "stream",
     "text": [
      "2021021016\n"
     ]
    }
   ],
   "source": [
    "#Setup logging\n",
    "import logging, bluebee\n",
    "from bluebee import bgp\n",
    "\n",
    "logger = logging.getLogger()\n",
    "logger.setLevel(logging.DEBUG)\n",
    "# create file handler which logs even debug messages\n",
    "logFile = f'{PATH}/spoolup_EMR_cluster.log'\n",
    "fh = logging.FileHandler(logFile)\n",
    "fh.setLevel(logging.INFO)\n",
    "# create console handler with a higher log level\n",
    "ch = logging.StreamHandler()\n",
    "ch.setLevel(logging.WARNING)\n",
    "# create formatter and add it to the handlers\n",
    "formatter = logging.Formatter('%(asctime)-18s-%(levelname)-8s %(message)s', datefmt='%d%b%Y %H:%M:%S')\n",
    "ch.setFormatter(formatter)\n",
    "fh.setFormatter(formatter)\n",
    "# add the handlers to logger\n",
    "logger.addHandler(ch)\n",
    "logger.addHandler(fh)\n",
    "# bgp.api.dump_curl = True\n",
    "# bluebee.logger.setLevel(logging.DEBUG)"
   ]
  },
  {
   "cell_type": "code",
   "execution_count": 4,
   "id": "recent-abuse",
   "metadata": {},
   "outputs": [],
   "source": [
    "#Get the configuration as a yaml object\n",
    "c=yaml.load(open(PATH+\"/config_EMR_spot.yaml\"),Loader=yaml.SafeLoader)\n",
    "logger.info(f'Configuration settings: {c}')"
   ]
  },
  {
   "cell_type": "code",
   "execution_count": 5,
   "id": "curious-smell",
   "metadata": {},
   "outputs": [],
   "source": [
    "# Spot instances and different CORE/MASTER instances\n",
    "command='aws emr create-cluster --applications Name=Hadoop Name=Spark --tags \\'project='+\\\n",
    "c['config']['PROJECT_TAG']+'\\' \\'Owner='+c['config']['OWNER_TAG']+\\\n",
    "'\\' \\'Name='+c['config']['EC2_NAME_TAG']+'\\' --ec2-attributes \\'{\"KeyName\":\"'+\\\n",
    "c['config']['KEY_NAME']+'\",\"InstanceProfile\":\"EMR_EC2_DefaultRole\",\"SubnetId\":\"'+\\\n",
    "c['config']['SUBNET_ID']+'\",\"EmrManagedSlaveSecurityGroup\":\"'+c['config']['WORKER_SECURITY_GROUP']+\\\n",
    "'\",\"EmrManagedMasterSecurityGroup\":\"'+c['config']['MASTER_SECURITY_GROUP']+\\\n",
    "'\"}\\' --service-role EMR_DefaultRole --release-label emr-5.23.0 --log-uri \\''+\\\n",
    "c['config']['S3_BUCKET']+'\\' --name \\''+c['config']['EMR_CLUSTER_NAME']+\\\n",
    "'\\' --instance-groups \\'[{\"InstanceCount\":1,\"EbsConfiguration\":{\"EbsBlockDeviceConfigs\":[{\"VolumeSpecification\":{\"SizeInGB\":'+\\\n",
    "c['config']['MASTER_HD_SIZE']+',\"VolumeType\":\"gp2\"},\"VolumesPerInstance\":1}]},\"InstanceGroupType\":\"MASTER\",\"InstanceType\":\"'+\\\n",
    "c['config']['MASTER_INSTANCE_TYPE']+'\",\"Name\":\"Master-Instance\"},{\"InstanceCount\":'+\\\n",
    "c['config']['WORKER_COUNT']+',\"BidPrice\":\"'+c['config']['WORKER_BID_PRICE']+\\\n",
    "'\",\"EbsConfiguration\":{\"EbsBlockDeviceConfigs\":[{\"VolumeSpecification\":{\"SizeInGB\":'+\\\n",
    "c['config']['WORKER_HD_SIZE']+',\"VolumeType\":\"gp2\"},\"VolumesPerInstance\":1}]},\"InstanceGroupType\":\"CORE\",\"InstanceType\":\"'+\\\n",
    "c['config']['WORKER_INSTANCE_TYPE']+\\\n",
    "'\",\"Name\":\"Core-Group\"}]\\' --configurations \\'[{\"Classification\":\"spark\",\"Properties\":{\"maximizeResourceAllocation\":\"true\"}},{\"Classification\":\"yarn-site\",\"Properties\":{\"yarn.nodemanager.vmem-check-enabled\":\"false\"},\"Configurations\":[]}]\\' --auto-scaling-role EMR_AutoScaling_DefaultRole --ebs-root-volume-size 32 --scale-down-behavior TERMINATE_AT_TASK_COMPLETION --region '+\\\n",
    "c['config']['REGION']\n",
    "logger.info(f'Executing following command: \\n{command}')"
   ]
  },
  {
   "cell_type": "code",
   "execution_count": 6,
   "id": "effective-shape",
   "metadata": {},
   "outputs": [
    {
     "name": "stderr",
     "output_type": "stream",
     "text": [
      "25Mar2021 20:21:21-WARNING  Created cluster with ID: \"j-3V30D9EKPP6C3\"\n"
     ]
    }
   ],
   "source": [
    "cluster_id_json=os.popen(command).read()\n",
    "#My default profile exports TEXT\n",
    "cluster_id=re.split('\\s',cluster_id_json)[1]\n",
    "# Gives EMR cluster information\n",
    "client_EMR = boto3.client('emr', region_name=c['config']['REGION'])\n",
    "logger.warning(f'Created cluster with ID: \"{cluster_id}\"')"
   ]
  },
  {
   "cell_type": "code",
   "execution_count": 7,
   "id": "center-liver",
   "metadata": {},
   "outputs": [
    {
     "name": "stderr",
     "output_type": "stream",
     "text": [
      "25Mar2021 20:28:53-WARNING  Cluster successfully created! Starting HAIL installation...\n",
      "25Mar2021 20:28:53-WARNING  \n",
      " Total time to provision your cluster: 7.53  minutes\n"
     ]
    }
   ],
   "source": [
    "# Cluster state update\n",
    "status_EMR='STARTING'\n",
    "tic = time.time()\n",
    "# Wait until the cluster is created\n",
    "logger.info('Creating EMR...')\n",
    "\n",
    "while (status_EMR!='EMPTY'):\n",
    "    details_EMR=client_EMR.describe_cluster(ClusterId=cluster_id)\n",
    "    status_EMR=details_EMR.get('Cluster').get('Status').get('State')\n",
    "    logger.info('Cluster status: '+status_EMR)\n",
    "    time.sleep(30)\n",
    "    if (status_EMR=='WAITING'):\n",
    "        logger.warning('Cluster successfully created! Starting HAIL installation...')\n",
    "        toc=time.time()-tic\n",
    "        logger.warning(\"Total time to provision your cluster: %.2f \"%(toc/60)+\" minutes\")\n",
    "        break\n",
    "    if (status_EMR=='TERMINATED_WITH_ERRORS'):\n",
    "        err = \"Cluster un-successfully created. Ending installation...\"\n",
    "        logger.error(err)\n",
    "        sys.exit(err)"
   ]
  },
  {
   "cell_type": "code",
   "execution_count": 8,
   "id": "pacific-library",
   "metadata": {},
   "outputs": [],
   "source": [
    "# Get public DNS from master node\n",
    "master_dns=details_EMR.get('Cluster').get('MasterPublicDnsName')\n",
    "master_IP=re.sub(\"-\",\".\",master_dns.split(\".\")[0].split(\"ec2-\")[1])\n",
    "logger.info(f'Master IP address: {master_IP}')"
   ]
  },
  {
   "cell_type": "code",
   "execution_count": 9,
   "id": "generous-validation",
   "metadata": {},
   "outputs": [],
   "source": [
    "#Get ssh connection to master instance\n",
    "logger.info('Creating secure SSH connection to instance...')\n",
    "key = paramiko.RSAKey.from_private_key_file(c['config']['PATH_TO_KEY']+c['config']['KEY_NAME']+'.pem')\n",
    "client = paramiko.SSHClient()\n",
    "client.set_missing_host_key_policy(paramiko.AutoAddPolicy())\n",
    "client.connect(hostname=master_IP, username=\"hadoop\", pkey=key)\n",
    "#Run a quick test on the connection\n",
    "stdin, stdout, stderr = client.exec_command('echo \"Hello\"')\n",
    "assert stdout.readline() == 'Hello\\n'"
   ]
  },
  {
   "cell_type": "code",
   "execution_count": 10,
   "id": "functional-discrimination",
   "metadata": {},
   "outputs": [],
   "source": [
    "# Copy the key into the master\n",
    "stdin, stdout, stderr = client.exec_command('mkdir -p ~/.ssh/id_rsa')\n",
    "command='scp -o \\'StrictHostKeyChecking no\\' -i '+\\\n",
    "c['config']['PATH_TO_KEY']+c['config']['KEY_NAME']+'.pem '+\\\n",
    "c['config']['PATH_TO_KEY']+c['config']['KEY_NAME']+'.pem hadoop@'+\\\n",
    "master_dns+':/home/hadoop/.ssh/id_rsa'\n",
    "logger.info(f'Copying the keys to the instance with command: \\n{command}')\n",
    "assert os.system(command) == 0"
   ]
  },
  {
   "cell_type": "code",
   "execution_count": 11,
   "id": "gothic-hearing",
   "metadata": {},
   "outputs": [],
   "source": [
    "# Copy the hail installation script into the master\n",
    "command='scp -o \\'StrictHostKeyChecking no\\' -i '+\\\n",
    "c['config']['PATH_TO_KEY']+c['config']['KEY_NAME']+'.pem '+\\\n",
    "PATH+'/install_hail_and_python36.sh hadoop@'+master_dns+':/home/hadoop'\n",
    "logger.info(f'Copying the hail installation script to the instance with command: \\n{command}')\n",
    "assert os.system(command) == 0"
   ]
  },
  {
   "cell_type": "code",
   "execution_count": 12,
   "id": "seven-netherlands",
   "metadata": {},
   "outputs": [],
   "source": [
    "# Copy the installation script into the master\n",
    "command='scp -o \\'StrictHostKeyChecking no\\' -i '+\\\n",
    "c['config']['PATH_TO_KEY']+c['config']['KEY_NAME']+'.pem '+\\\n",
    "PATH+'/install_python36.sh hadoop@'+master_dns+':/home/hadoop'\n",
    "logger.info(f'Copying the python installation script to the instance with command: \\n{command}')\n",
    "assert os.system(command) == 0"
   ]
  },
  {
   "cell_type": "code",
   "execution_count": 13,
   "id": "strange-kazakhstan",
   "metadata": {
    "tags": []
   },
   "outputs": [
    {
     "name": "stderr",
     "output_type": "stream",
     "text": [
      "25Mar2021 20:28:54-WARNING  This is the public JupyterLab link: \"http://100.25.188.251:8192\"\n"
     ]
    }
   ],
   "source": [
    "#Install the software on master\n",
    "VERSION=c['config']['HAIL_VERSION']\n",
    "logger.info(f'Installing hail version {VERSION} et. al on Master')\n",
    "logger.warning(f'This is the public JupyterLab link: \"http://{master_IP}:8192\"')\n",
    "command='./install_hail_and_python36.sh -v '+ VERSION\n",
    "logger.info(f'Executing remote command: \"{command}\"')\n",
    "stdin, stdout, stderr = client.exec_command('cd /home/hadoop/')\n",
    "stdin, stdout, stderr = client.exec_command(command)\n",
    "for line in stdout:\n",
    "    logger.info(line.rstrip())"
   ]
  },
  {
   "cell_type": "code",
   "execution_count": 14,
   "id": "legendary-posting",
   "metadata": {},
   "outputs": [],
   "source": [
    "# close the client connection\n",
    "logger.info('Closing the client connection')\n",
    "client.close()"
   ]
  },
  {
   "cell_type": "code",
   "execution_count": 15,
   "id": "informed-nylon",
   "metadata": {},
   "outputs": [
    {
     "name": "stderr",
     "output_type": "stream",
     "text": [
      "25Mar2021 20:38:11-WARNING  Successfully started ENR cluster \"j-3V30D9EKPP6C3\"\n"
     ]
    }
   ],
   "source": [
    "logger.warning(f'Successfully started ENR cluster \"{cluster_id}\"')"
   ]
  },
  {
   "cell_type": "code",
   "execution_count": null,
   "id": "olympic-console",
   "metadata": {},
   "outputs": [],
   "source": []
  }
 ],
 "metadata": {
  "kernelspec": {
   "display_name": "Python 3",
   "language": "python",
   "name": "python3"
  },
  "language_info": {
   "codemirror_mode": {
    "name": "ipython",
    "version": 3
   },
   "file_extension": ".py",
   "mimetype": "text/x-python",
   "name": "python",
   "nbconvert_exporter": "python",
   "pygments_lexer": "ipython3",
   "version": "3.7.10"
  }
 },
 "nbformat": 4,
 "nbformat_minor": 5
}
