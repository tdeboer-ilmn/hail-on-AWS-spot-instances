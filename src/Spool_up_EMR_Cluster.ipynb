{
 "cells": [
  {
   "cell_type": "markdown",
   "id": "overall-horizontal",
   "metadata": {},
   "source": [
    "# Spool up EMR Cluster to run HAIL"
   ]
  },
  {
   "cell_type": "code",
   "execution_count": 1,
   "id": "cheap-gamma",
   "metadata": {},
   "outputs": [],
   "source": [
    "import boto3\n",
    "import time\n",
    "import sys\n",
    "import botocore\n",
    "import paramiko\n",
    "import re\n",
    "import os\n",
    "import yaml, re"
   ]
  },
  {
   "cell_type": "code",
   "execution_count": 2,
   "id": "material-struggle",
   "metadata": {},
   "outputs": [
    {
     "data": {
      "text/plain": [
       "'/data/hail-on-AWS-spot-instances/src'"
      ]
     },
     "execution_count": 2,
     "metadata": {},
     "output_type": "execute_result"
    }
   ],
   "source": [
    "PATH = os.path.abspath(os.getcwd())\n",
    "PATH"
   ]
  },
  {
   "cell_type": "code",
   "execution_count": 3,
   "id": "understood-values",
   "metadata": {},
   "outputs": [
    {
     "name": "stdout",
     "output_type": "stream",
     "text": [
      "2021021016\n"
     ]
    }
   ],
   "source": [
    "#Setup logging\n",
    "import logging, bluebee\n",
    "from bluebee import bgp\n",
    "\n",
    "logger = logging.getLogger()\n",
    "logger.setLevel(logging.DEBUG)\n",
    "# create file handler which logs even debug messages\n",
    "logFile = f'{PATH}/spoolup_EMR_cluster.log'\n",
    "fh = logging.FileHandler(logFile)\n",
    "fh.setLevel(logging.INFO)\n",
    "# create console handler with a higher log level\n",
    "ch = logging.StreamHandler()\n",
    "ch.setLevel(logging.INFO)\n",
    "# create formatter and add it to the handlers\n",
    "formatter = logging.Formatter('%(asctime)-18s-%(levelname)-8s %(message)s', datefmt='%d%b%Y %H:%M:%S')\n",
    "ch.setFormatter(formatter)\n",
    "fh.setFormatter(formatter)\n",
    "# add the handlers to logger\n",
    "logger.addHandler(ch)\n",
    "logger.addHandler(fh)\n",
    "# bgp.api.dump_curl = True\n",
    "# bluebee.logger.setLevel(logging.DEBUG)"
   ]
  },
  {
   "cell_type": "code",
   "execution_count": 4,
   "id": "trying-rainbow",
   "metadata": {},
   "outputs": [
    {
     "name": "stderr",
     "output_type": "stream",
     "text": [
      "27Mar2021 00:32:10-INFO     Configuration settings: {'config': {'EMR_RELEASE': 'emr-6.2.0', 'EMR_CLUSTER_NAME': 'tdeboer-hail', 'EC2_NAME_TAG': 'tdeboer-hail-EMR', 'OWNER_TAG': 'tdeboer-ilmn', 'PROJECT_TAG': 'GRE_on_ICA', 'REGION': 'us-east-1', 'MASTER_INSTANCE_TYPE': 'm4.large', 'WORKER_INSTANCE_TYPE': 'r4.4xlarge', 'WORKER_COUNT': '1', 'WORKER_BID_PRICE': '0.50', 'MASTER_HD_SIZE': '250', 'WORKER_HD_SIZE': '500', 'SUBNET_ID': '', 'S3_BUCKET': 's3n://ilmn-hail/', 'KEY_NAME': 'hail-ES-GRE', 'PATH_TO_KEY': '/data/', 'WORKER_SECURITY_GROUP': 'sg-0df1e5704ca2a8196', 'MASTER_SECURITY_GROUP': 'sg-0bab1202c0aa453b3', 'HAIL_VERSION': 'current'}}\n"
     ]
    }
   ],
   "source": [
    "#Get the configuration as a yaml object\n",
    "c=yaml.load(open(PATH+\"/config_EMR_spot.yaml\"),Loader=yaml.SafeLoader)\n",
    "logger.info(f'Configuration settings: {c}')"
   ]
  },
  {
   "cell_type": "code",
   "execution_count": 5,
   "id": "indonesian-navigation",
   "metadata": {},
   "outputs": [],
   "source": [
    "#Store or update the bootstrapping file into the S# bucket (same as used for the logs, for now)\n",
    "#TODO"
   ]
  },
  {
   "cell_type": "code",
   "execution_count": 6,
   "id": "reasonable-joshua",
   "metadata": {},
   "outputs": [
    {
     "name": "stderr",
     "output_type": "stream",
     "text": [
      "27Mar2021 00:32:10-INFO     Executing following command: \n",
      "aws emr create-cluster --applications Name=Hadoop Name=Spark --tags 'project=GRE_on_ICA' 'Owner=tdeboer-ilmn' 'Name=tdeboer-hail-EMR' --ec2-attributes '{\"KeyName\":\"hail-ES-GRE\",\"InstanceProfile\":\"EMR_EC2_DefaultRole\",\"SubnetId\":\"\",\"EmrManagedSlaveSecurityGroup\":\"sg-0df1e5704ca2a8196\",\"EmrManagedMasterSecurityGroup\":\"sg-0bab1202c0aa453b3\"}' --service-role EMR_DefaultRole --release-label 'emr-6.2.0' --log-uri 's3n://ilmn-hail/' --name 'tdeboer-hail' --instance-groups '[{\"InstanceCount\":1,\"EbsConfiguration\":{\"EbsBlockDeviceConfigs\":[{\"VolumeSpecification\":{\"SizeInGB\":250,\"VolumeType\":\"gp2\"},\"VolumesPerInstance\":1}]},\"InstanceGroupType\":\"MASTER\",\"InstanceType\":\"m4.large\",\"Name\":\"Master-Instance\"},{\"InstanceCount\":1,\"BidPrice\":\"0.50\",\"EbsConfiguration\":{\"EbsBlockDeviceConfigs\":[{\"VolumeSpecification\":{\"SizeInGB\":500,\"VolumeType\":\"gp2\"},\"VolumesPerInstance\":1}]},\"InstanceGroupType\":\"CORE\",\"InstanceType\":\"r4.4xlarge\",\"Name\":\"Core-Group\"}]' --configurations '[{\"Classification\":\"spark\",\"Properties\":{\"maximizeResourceAllocation\":\"true\"}},{\"Classification\":\"yarn-site\",\"Properties\":{\"yarn.nodemanager.vmem-check-enabled\":\"false\"},\"Configurations\":[]}]' --auto-scaling-role EMR_AutoScaling_DefaultRole --ebs-root-volume-size 32 --scale-down-behavior TERMINATE_AT_TASK_COMPLETION --region us-east-1\n"
     ]
    }
   ],
   "source": [
    "# Spot instances and different CORE/MASTER instances\n",
    "command='aws emr create-cluster --applications Name=Hadoop Name=Spark --tags \\'project='+\\\n",
    "c['config']['PROJECT_TAG']+'\\' \\'Owner='+c['config']['OWNER_TAG']+\\\n",
    "'\\' \\'Name='+c['config']['EC2_NAME_TAG']+'\\' --ec2-attributes \\'{\"KeyName\":\"'+\\\n",
    "c['config']['KEY_NAME']+'\",\"InstanceProfile\":\"EMR_EC2_DefaultRole\",\"SubnetId\":\"'+\\\n",
    "c['config']['SUBNET_ID']+'\",\"EmrManagedSlaveSecurityGroup\":\"'+c['config']['WORKER_SECURITY_GROUP']+\\\n",
    "'\",\"EmrManagedMasterSecurityGroup\":\"'+c['config']['MASTER_SECURITY_GROUP']+\\\n",
    "'\"}\\' --service-role EMR_DefaultRole --release-label \\'' + c['config']['EMR_RELEASE'] + '\\' --log-uri \\''+\\\n",
    "c['config']['S3_BUCKET']+'\\' --name \\''+c['config']['EMR_CLUSTER_NAME']+\\\n",
    "'\\' --instance-groups \\'[{\"InstanceCount\":1,\"EbsConfiguration\":{\"EbsBlockDeviceConfigs\":[{\"VolumeSpecification\":{\"SizeInGB\":'+\\\n",
    "c['config']['MASTER_HD_SIZE']+',\"VolumeType\":\"gp2\"},\"VolumesPerInstance\":1}]},\"InstanceGroupType\":\"MASTER\",\"InstanceType\":\"'+\\\n",
    "c['config']['MASTER_INSTANCE_TYPE']+'\",\"Name\":\"Master-Instance\"},{\"InstanceCount\":'+\\\n",
    "c['config']['WORKER_COUNT']+',\"BidPrice\":\"'+c['config']['WORKER_BID_PRICE']+\\\n",
    "'\",\"EbsConfiguration\":{\"EbsBlockDeviceConfigs\":[{\"VolumeSpecification\":{\"SizeInGB\":'+\\\n",
    "c['config']['WORKER_HD_SIZE']+',\"VolumeType\":\"gp2\"},\"VolumesPerInstance\":1}]},\"InstanceGroupType\":\"CORE\",\"InstanceType\":\"'+\\\n",
    "c['config']['WORKER_INSTANCE_TYPE']+\\\n",
    "'\",\"Name\":\"Core-Group\"}]\\' --configurations \\'[{\"Classification\":\"spark\",\"Properties\":{\"maximizeResourceAllocation\":\"true\"}},{\"Classification\":\"yarn-site\",\"Properties\":{\"yarn.nodemanager.vmem-check-enabled\":\"false\"},\"Configurations\":[]}]\\' --auto-scaling-role EMR_AutoScaling_DefaultRole --ebs-root-volume-size 32 --scale-down-behavior TERMINATE_AT_TASK_COMPLETION --region '+\\\n",
    "c['config']['REGION']\n",
    "logger.info(f'Executing following command: \\n{command}')"
   ]
  },
  {
   "cell_type": "code",
   "execution_count": 7,
   "id": "liquid-knight",
   "metadata": {},
   "outputs": [
    {
     "name": "stderr",
     "output_type": "stream",
     "text": [
      "27Mar2021 00:32:12-INFO     Found credentials in shared credentials file: ~/.aws/credentials\n",
      "27Mar2021 00:32:12-WARNING  Created cluster with ID: \"j-S5SIXJCEFAI4\"\n"
     ]
    }
   ],
   "source": [
    "cluster_id_json=os.popen(command).read()\n",
    "#My default profile exports TEXT\n",
    "cluster_id=re.split('\\s',cluster_id_json)[1]\n",
    "# Gives EMR cluster information\n",
    "client_EMR = boto3.client('emr', region_name=c['config']['REGION'])\n",
    "logger.warning(f'Created cluster with ID: \"{cluster_id}\"')"
   ]
  },
  {
   "cell_type": "code",
   "execution_count": 8,
   "id": "headed-blank",
   "metadata": {},
   "outputs": [
    {
     "name": "stderr",
     "output_type": "stream",
     "text": [
      "27Mar2021 00:32:12-INFO     Creating EMR...\n",
      "27Mar2021 00:32:12-INFO     Cluster status: STARTING\n",
      "27Mar2021 00:32:42-INFO     Cluster status: STARTING\n",
      "27Mar2021 00:33:12-INFO     Cluster status: STARTING\n",
      "27Mar2021 00:33:42-INFO     Cluster status: STARTING\n",
      "27Mar2021 00:34:12-INFO     Cluster status: STARTING\n",
      "27Mar2021 00:34:43-INFO     Cluster status: STARTING\n",
      "27Mar2021 00:35:13-INFO     Cluster status: STARTING\n",
      "27Mar2021 00:35:43-INFO     Cluster status: STARTING\n",
      "27Mar2021 00:36:13-INFO     Cluster status: STARTING\n",
      "27Mar2021 00:36:43-INFO     Cluster status: STARTING\n",
      "27Mar2021 00:37:13-INFO     Cluster status: STARTING\n",
      "27Mar2021 00:37:43-INFO     Cluster status: STARTING\n",
      "27Mar2021 00:38:13-INFO     Cluster status: STARTING\n",
      "27Mar2021 00:38:44-INFO     Cluster status: STARTING\n",
      "27Mar2021 00:39:14-INFO     Cluster status: STARTING\n",
      "27Mar2021 00:39:44-INFO     Cluster status: STARTING\n",
      "27Mar2021 00:40:14-INFO     Cluster status: STARTING\n",
      "27Mar2021 00:40:44-INFO     Cluster status: WAITING\n",
      "27Mar2021 00:41:14-WARNING  Cluster successfully created! Starting HAIL installation...\n",
      "27Mar2021 00:41:14-WARNING  Total time to provision your cluster: 9.04  minutes\n"
     ]
    }
   ],
   "source": [
    "# Cluster state update\n",
    "status_EMR='STARTING'\n",
    "tic = time.time()\n",
    "# Wait until the cluster is created\n",
    "logger.info('Creating EMR...')\n",
    "\n",
    "while (status_EMR!='EMPTY'):\n",
    "    details_EMR=client_EMR.describe_cluster(ClusterId=cluster_id)\n",
    "    status_EMR=details_EMR.get('Cluster').get('Status').get('State')\n",
    "    logger.info('Cluster status: '+status_EMR)\n",
    "    time.sleep(30)\n",
    "    if (status_EMR=='WAITING'):\n",
    "        logger.warning('Cluster successfully created! Starting HAIL installation...')\n",
    "        toc=time.time()-tic\n",
    "        logger.warning(\"Total time to provision your cluster: %.2f \"%(toc/60)+\" minutes\")\n",
    "        break\n",
    "    if (status_EMR=='TERMINATED_WITH_ERRORS' or status_EMR=='TERMINATING'):\n",
    "        err = \"Cluster un-successfully created. Ending installation...\"\n",
    "        logger.error(err)\n",
    "        sys.exit(err)"
   ]
  },
  {
   "cell_type": "code",
   "execution_count": 9,
   "id": "pending-declaration",
   "metadata": {},
   "outputs": [
    {
     "name": "stderr",
     "output_type": "stream",
     "text": [
      "27Mar2021 00:41:14-INFO     Master IP address: 52.91.151.10\n"
     ]
    }
   ],
   "source": [
    "# Get public DNS from master node\n",
    "master_dns=details_EMR.get('Cluster').get('MasterPublicDnsName')\n",
    "master_IP=re.sub(\"-\",\".\",master_dns.split(\".\")[0].split(\"ec2-\")[1])\n",
    "logger.info(f'Master IP address: {master_IP}')"
   ]
  },
  {
   "cell_type": "code",
   "execution_count": 10,
   "id": "suspended-scope",
   "metadata": {},
   "outputs": [
    {
     "name": "stderr",
     "output_type": "stream",
     "text": [
      "27Mar2021 00:41:14-INFO     Creating secure SSH connection to instance...\n",
      "27Mar2021 00:41:14-INFO     Connected (version 2.0, client OpenSSH_7.4)\n",
      "27Mar2021 00:41:14-INFO     Authentication (publickey) successful!\n"
     ]
    }
   ],
   "source": [
    "#Get ssh connection to master instance\n",
    "logger.info('Creating secure SSH connection to instance...')\n",
    "key = paramiko.RSAKey.from_private_key_file(c['config']['PATH_TO_KEY']+c['config']['KEY_NAME']+'.pem')\n",
    "client = paramiko.SSHClient()\n",
    "client.set_missing_host_key_policy(paramiko.AutoAddPolicy())\n",
    "client.connect(hostname=master_IP, username=\"hadoop\", pkey=key)\n",
    "#Run a quick test on the connection\n",
    "stdin, stdout, stderr = client.exec_command('echo \"Hello\"')\n",
    "assert stdout.readline() == 'Hello\\n'"
   ]
  },
  {
   "cell_type": "code",
   "execution_count": 11,
   "id": "electronic-superior",
   "metadata": {},
   "outputs": [
    {
     "name": "stderr",
     "output_type": "stream",
     "text": [
      "27Mar2021 00:41:14-INFO     Copying the keys to the instance with command: \n",
      "scp -o 'StrictHostKeyChecking no' -i /data/hail-ES-GRE.pem /data/hail-ES-GRE.pem hadoop@ec2-52-91-151-10.compute-1.amazonaws.com:/home/hadoop/.ssh/id_rsa\n"
     ]
    }
   ],
   "source": [
    "# Copy the key into the master\n",
    "stdin, stdout, stderr = client.exec_command('mkdir -p ~/.ssh/id_rsa')\n",
    "command='scp -o \\'StrictHostKeyChecking no\\' -i '+\\\n",
    "c['config']['PATH_TO_KEY']+c['config']['KEY_NAME']+'.pem '+\\\n",
    "c['config']['PATH_TO_KEY']+c['config']['KEY_NAME']+'.pem hadoop@'+\\\n",
    "master_dns+':/home/hadoop/.ssh/id_rsa'\n",
    "logger.info(f'Copying the keys to the instance with command: \\n{command}')\n",
    "assert os.system(command) == 0"
   ]
  },
  {
   "cell_type": "code",
   "execution_count": 12,
   "id": "forward-spiritual",
   "metadata": {},
   "outputs": [
    {
     "name": "stderr",
     "output_type": "stream",
     "text": [
      "27Mar2021 00:41:15-INFO     Copying the hail installation script to the instance with command: \n",
      "scp -o 'StrictHostKeyChecking no' -i /data/hail-ES-GRE.pem /data/hail-on-AWS-spot-instances/src/install_hail_and_python.sh hadoop@ec2-52-91-151-10.compute-1.amazonaws.com:/home/hadoop\n"
     ]
    }
   ],
   "source": [
    "# Copy the hail installation script into the master\n",
    "command='scp -o \\'StrictHostKeyChecking no\\' -i '+\\\n",
    "c['config']['PATH_TO_KEY']+c['config']['KEY_NAME']+'.pem '+\\\n",
    "PATH+'/install_hail_and_python.sh hadoop@'+master_dns+':/home/hadoop'\n",
    "logger.info(f'Copying the hail installation script to the instance with command: \\n{command}')\n",
    "assert os.system(command) == 0"
   ]
  },
  {
   "cell_type": "code",
   "execution_count": 13,
   "id": "exotic-elite",
   "metadata": {},
   "outputs": [
    {
     "name": "stderr",
     "output_type": "stream",
     "text": [
      "27Mar2021 00:41:15-INFO     Copying the python installation script to the instance with command: \n",
      "scp -o 'StrictHostKeyChecking no' -i /data/hail-ES-GRE.pem /data/hail-on-AWS-spot-instances/src/install_python.sh hadoop@ec2-52-91-151-10.compute-1.amazonaws.com:/home/hadoop\n"
     ]
    }
   ],
   "source": [
    "# Copy the installation script into the master\n",
    "command='scp -o \\'StrictHostKeyChecking no\\' -i '+\\\n",
    "c['config']['PATH_TO_KEY']+c['config']['KEY_NAME']+'.pem '+\\\n",
    "PATH+'/install_python.sh hadoop@'+master_dns+':/home/hadoop'\n",
    "logger.info(f'Copying the python installation script to the instance with command: \\n{command}')\n",
    "assert os.system(command) == 0"
   ]
  },
  {
   "cell_type": "code",
   "execution_count": 14,
   "id": "stupid-location",
   "metadata": {
    "tags": []
   },
   "outputs": [
    {
     "name": "stderr",
     "output_type": "stream",
     "text": [
      "27Mar2021 00:41:15-INFO     Installing hail version current et. al on Master\n",
      "27Mar2021 00:41:15-WARNING  This is the public JupyterLab link: \"http://52.91.151.10:8192\"\n",
      "27Mar2021 00:41:15-INFO     Executing remote command: \"./install_hail_and_python.sh -v current\"\n",
      "27Mar2021 00:41:16-INFO     Keys successfully copied to the worker nodes\n",
      "27Mar2021 00:41:17-INFO     Loaded plugins: extras_suggestions, langpacks, priorities, update-motd\n",
      "27Mar2021 00:41:18-INFO     3 packages excluded due to repository priority protections\n",
      "27Mar2021 00:41:19-INFO     No package python37-devel available.\n",
      "27Mar2021 00:41:19-INFO     Resolving Dependencies\n",
      "27Mar2021 00:41:19-INFO     --> Running transaction check\n",
      "27Mar2021 00:41:19-INFO     ---> Package python3.x86_64 0:3.7.9-1.amzn2.0.1 will be updated\n",
      "27Mar2021 00:41:19-INFO     --> Processing Dependency: python3 = 3.7.9-1.amzn2.0.1 for package: python3-test-3.7.9-1.amzn2.0.1.x86_64\n",
      "27Mar2021 00:41:19-INFO     --> Processing Dependency: python3 = 3.7.9-1.amzn2.0.1 for package: python3-tools-3.7.9-1.amzn2.0.1.x86_64\n",
      "27Mar2021 00:41:19-INFO     --> Processing Dependency: python3 = 3.7.9-1.amzn2.0.1 for package: python3-tkinter-3.7.9-1.amzn2.0.1.x86_64\n",
      "27Mar2021 00:41:19-INFO     --> Processing Dependency: python3(x86-64) = 3.7.9-1.amzn2.0.1 for package: python3-libs-3.7.9-1.amzn2.0.1.x86_64\n",
      "27Mar2021 00:41:19-INFO     ---> Package python3.x86_64 0:3.7.9-1.amzn2.0.2 will be an update\n",
      "27Mar2021 00:41:19-INFO     ---> Package python37-setuptools.noarch 0:44.0.0-1 will be installed\n",
      "27Mar2021 00:41:19-INFO     --> Running transaction check\n",
      "27Mar2021 00:41:19-INFO     ---> Package python3-libs.x86_64 0:3.7.9-1.amzn2.0.1 will be updated\n",
      "27Mar2021 00:41:19-INFO     ---> Package python3-libs.x86_64 0:3.7.9-1.amzn2.0.2 will be an update\n",
      "27Mar2021 00:41:19-INFO     ---> Package python3-test.x86_64 0:3.7.9-1.amzn2.0.1 will be updated\n",
      "27Mar2021 00:41:19-INFO     ---> Package python3-test.x86_64 0:3.7.9-1.amzn2.0.2 will be an update\n",
      "27Mar2021 00:41:19-INFO     ---> Package python3-tkinter.x86_64 0:3.7.9-1.amzn2.0.1 will be updated\n",
      "27Mar2021 00:41:19-INFO     ---> Package python3-tkinter.x86_64 0:3.7.9-1.amzn2.0.2 will be an update\n",
      "27Mar2021 00:41:19-INFO     ---> Package python3-tools.x86_64 0:3.7.9-1.amzn2.0.1 will be updated\n",
      "27Mar2021 00:41:19-INFO     ---> Package python3-tools.x86_64 0:3.7.9-1.amzn2.0.1 will be obsoleted\n",
      "27Mar2021 00:41:19-INFO     ---> Package python3-tools.x86_64 0:3.7.9-1.amzn2.0.2 will be obsoleting\n",
      "27Mar2021 00:41:20-INFO     --> Finished Dependency Resolution\n",
      "27Mar2021 00:41:20-INFO     \n",
      "27Mar2021 00:41:20-INFO     Dependencies Resolved\n",
      "27Mar2021 00:41:20-INFO     \n",
      "27Mar2021 00:41:20-INFO     ================================================================================\n",
      "27Mar2021 00:41:20-INFO      Package                Arch      Version                 Repository       Size\n",
      "27Mar2021 00:41:20-INFO     ================================================================================\n",
      "27Mar2021 00:41:20-INFO     Installing:\n",
      "27Mar2021 00:41:20-INFO      python3-tools          x86_64    3.7.9-1.amzn2.0.2       amzn2-core      846 k\n",
      "27Mar2021 00:41:20-INFO          replacing  python3-tools.x86_64 3.7.9-1.amzn2.0.1\n",
      "27Mar2021 00:41:20-INFO      python37-setuptools    noarch    44.0.0-1                emr-platform    959 k\n",
      "27Mar2021 00:41:20-INFO     Updating:\n",
      "27Mar2021 00:41:20-INFO      python3                x86_64    3.7.9-1.amzn2.0.2       amzn2-core       72 k\n",
      "27Mar2021 00:41:20-INFO     Updating for dependencies:\n",
      "27Mar2021 00:41:20-INFO      python3-libs           x86_64    3.7.9-1.amzn2.0.2       amzn2-core      9.2 M\n",
      "27Mar2021 00:41:20-INFO      python3-test           x86_64    3.7.9-1.amzn2.0.2       amzn2-core      7.6 M\n",
      "27Mar2021 00:41:20-INFO      python3-tkinter        x86_64    3.7.9-1.amzn2.0.2       amzn2-core      372 k\n",
      "27Mar2021 00:41:20-INFO     \n",
      "27Mar2021 00:41:20-INFO     Transaction Summary\n",
      "27Mar2021 00:41:20-INFO     ================================================================================\n",
      "27Mar2021 00:41:20-INFO     Install  2 Packages\n",
      "27Mar2021 00:41:20-INFO     Upgrade  1 Package  (+3 Dependent packages)\n",
      "27Mar2021 00:41:20-INFO     \n",
      "27Mar2021 00:41:20-INFO     Total download size: 19 M\n",
      "27Mar2021 00:41:20-INFO     Downloading packages:\n",
      "27Mar2021 00:41:20-INFO     Delta RPMs disabled because /usr/bin/applydeltarpm not installed.\n",
      "27Mar2021 00:41:21-INFO     --------------------------------------------------------------------------------\n",
      "27Mar2021 00:41:21-INFO     Total                                               36 MB/s |  19 MB  00:00\n",
      "27Mar2021 00:41:21-INFO     Running transaction check\n",
      "27Mar2021 00:41:21-INFO     Running transaction test\n",
      "27Mar2021 00:41:21-INFO     Transaction test succeeded\n",
      "27Mar2021 00:41:21-INFO     Running transaction\n",
      "27Mar2021 00:41:23-INFO       Updating   : python3-libs-3.7.9-1.amzn2.0.2.x86_64                       1/11\n",
      "27Mar2021 00:41:23-INFO       Updating   : python3-3.7.9-1.amzn2.0.2.x86_64                            2/11\n",
      "27Mar2021 00:41:23-INFO       Updating   : python3-tkinter-3.7.9-1.amzn2.0.2.x86_64                    3/11\n",
      "27Mar2021 00:41:25-INFO       Installing : python3-tools-3.7.9-1.amzn2.0.2.x86_64                      4/11\n",
      "27Mar2021 00:41:25-INFO       Updating   : python3-test-3.7.9-1.amzn2.0.2.x86_64                       5/11\n",
      "27Mar2021 00:41:25-INFO       Installing : python37-setuptools-44.0.0-1.noarch                         6/11\n",
      "27Mar2021 00:41:25-INFO       Cleanup    : python3-test-3.7.9-1.amzn2.0.1.x86_64                       7/11\n",
      "27Mar2021 00:41:25-INFO       Cleanup    : python3-tools-3.7.9-1.amzn2.0.1.x86_64                      8/11\n",
      "27Mar2021 00:41:25-INFO       Cleanup    : python3-tkinter-3.7.9-1.amzn2.0.1.x86_64                    9/11\n",
      "27Mar2021 00:41:25-INFO       Cleanup    : python3-libs-3.7.9-1.amzn2.0.1.x86_64                      10/11\n",
      "27Mar2021 00:41:25-INFO       Cleanup    : python3-3.7.9-1.amzn2.0.1.x86_64                           11/11\n",
      "27Mar2021 00:41:25-INFO       Verifying  : python3-3.7.9-1.amzn2.0.2.x86_64                            1/11\n",
      "27Mar2021 00:41:25-INFO       Verifying  : python37-setuptools-44.0.0-1.noarch                         2/11\n",
      "27Mar2021 00:41:25-INFO       Verifying  : python3-test-3.7.9-1.amzn2.0.2.x86_64                       3/11\n",
      "27Mar2021 00:41:25-INFO       Verifying  : python3-libs-3.7.9-1.amzn2.0.2.x86_64                       4/11\n",
      "27Mar2021 00:41:25-INFO       Verifying  : python3-tools-3.7.9-1.amzn2.0.2.x86_64                      5/11\n",
      "27Mar2021 00:41:25-INFO       Verifying  : python3-tkinter-3.7.9-1.amzn2.0.2.x86_64                    6/11\n",
      "27Mar2021 00:41:25-INFO       Verifying  : python3-tools-3.7.9-1.amzn2.0.1.x86_64                      7/11\n",
      "27Mar2021 00:41:25-INFO       Verifying  : python3-tools-3.7.9-1.amzn2.0.1.x86_64                      8/11\n",
      "27Mar2021 00:41:25-INFO       Verifying  : python3-3.7.9-1.amzn2.0.1.x86_64                            9/11\n",
      "27Mar2021 00:41:25-INFO       Verifying  : python3-tkinter-3.7.9-1.amzn2.0.1.x86_64                   10/11\n",
      "27Mar2021 00:41:25-INFO       Verifying  : python3-test-3.7.9-1.amzn2.0.1.x86_64                      11/11\n",
      "27Mar2021 00:41:26-INFO       Verifying  : python3-libs-3.7.9-1.amzn2.0.1.x86_64                      12/11\n",
      "27Mar2021 00:41:26-INFO     \n",
      "27Mar2021 00:41:26-INFO     Installed:\n",
      "27Mar2021 00:41:26-INFO       python3-tools.x86_64 0:3.7.9-1.amzn2.0.2\n",
      "27Mar2021 00:41:26-INFO       python37-setuptools.noarch 0:44.0.0-1\n",
      "27Mar2021 00:41:26-INFO     \n",
      "27Mar2021 00:41:26-INFO     Updated:\n",
      "27Mar2021 00:41:26-INFO       python3.x86_64 0:3.7.9-1.amzn2.0.2\n",
      "27Mar2021 00:41:26-INFO     \n",
      "27Mar2021 00:41:26-INFO     Dependency Updated:\n",
      "27Mar2021 00:41:26-INFO       python3-libs.x86_64 0:3.7.9-1.amzn2.0.2\n",
      "27Mar2021 00:41:26-INFO       python3-test.x86_64 0:3.7.9-1.amzn2.0.2\n",
      "27Mar2021 00:41:26-INFO       python3-tkinter.x86_64 0:3.7.9-1.amzn2.0.2\n",
      "27Mar2021 00:41:26-INFO     \n",
      "27Mar2021 00:41:26-INFO     Replaced:\n",
      "27Mar2021 00:41:26-INFO       python3-tools.x86_64 0:3.7.9-1.amzn2.0.1\n",
      "27Mar2021 00:41:26-INFO     \n",
      "27Mar2021 00:41:26-INFO     Complete!\n",
      "27Mar2021 00:41:27-INFO     Collecting pip\n",
      "27Mar2021 00:41:28-INFO       Downloading https://files.pythonhosted.org/packages/fe/ef/60d7ba03b5c442309ef42e7d69959f73aacccd0d86008362a681c4698e83/pip-21.0.1-py3-none-any.whl (1.5MB)\n",
      "27Mar2021 00:41:28-INFO     Installing collected packages: pip\n",
      "27Mar2021 00:41:28-INFO       Found existing installation: pip 9.0.3\n",
      "27Mar2021 00:41:28-INFO         Uninstalling pip-9.0.3:\n",
      "27Mar2021 00:41:29-INFO           Successfully uninstalled pip-9.0.3\n",
      "27Mar2021 00:41:31-INFO     Successfully installed pip-21.0.1\n",
      "27Mar2021 00:41:33-INFO     Collecting setuptools>=45\n",
      "27Mar2021 00:41:33-INFO       Downloading setuptools-54.2.0-py3-none-any.whl (785 kB)\n",
      "27Mar2021 00:41:33-INFO     Installing collected packages: setuptools\n",
      "27Mar2021 00:41:33-INFO       Attempting uninstall: setuptools\n",
      "27Mar2021 00:41:33-INFO         Found existing installation: setuptools 44.0.0\n",
      "27Mar2021 00:41:33-INFO         Uninstalling setuptools-44.0.0:\n",
      "27Mar2021 00:41:33-INFO           Successfully uninstalled setuptools-44.0.0\n",
      "27Mar2021 00:41:34-INFO     Successfully installed setuptools-54.2.0\n",
      "27Mar2021 00:41:34-INFO     #####################################################################################\n",
      "27Mar2021 00:41:34-INFO     -rwxr-xr-x 1 hadoop hadoop 1395 Mar 27 00:41 /tmp/install_python.sh\n",
      "27Mar2021 00:41:35-INFO     Loaded plugins: extras_suggestions, langpacks, priorities, update-motd\n",
      "27Mar2021 00:41:36-INFO     3 packages excluded due to repository priority protections\n",
      "27Mar2021 00:41:37-INFO     No package python37-devel available.\n",
      "27Mar2021 00:41:37-INFO     Resolving Dependencies\n",
      "27Mar2021 00:41:37-INFO     --> Running transaction check\n",
      "27Mar2021 00:41:37-INFO     ---> Package python3.x86_64 0:3.7.9-1.amzn2.0.1 will be updated\n",
      "27Mar2021 00:41:37-INFO     --> Processing Dependency: python3 = 3.7.9-1.amzn2.0.1 for package: python3-test-3.7.9-1.amzn2.0.1.x86_64\n",
      "27Mar2021 00:41:37-INFO     --> Processing Dependency: python3 = 3.7.9-1.amzn2.0.1 for package: python3-tools-3.7.9-1.amzn2.0.1.x86_64\n",
      "27Mar2021 00:41:37-INFO     --> Processing Dependency: python3 = 3.7.9-1.amzn2.0.1 for package: python3-tkinter-3.7.9-1.amzn2.0.1.x86_64\n",
      "27Mar2021 00:41:37-INFO     --> Processing Dependency: python3(x86-64) = 3.7.9-1.amzn2.0.1 for package: python3-libs-3.7.9-1.amzn2.0.1.x86_64\n",
      "27Mar2021 00:41:37-INFO     ---> Package python3.x86_64 0:3.7.9-1.amzn2.0.2 will be an update\n",
      "27Mar2021 00:41:37-INFO     ---> Package python37-setuptools.noarch 0:44.0.0-1 will be installed\n",
      "27Mar2021 00:41:37-INFO     --> Running transaction check\n",
      "27Mar2021 00:41:37-INFO     ---> Package python3-libs.x86_64 0:3.7.9-1.amzn2.0.1 will be updated\n",
      "27Mar2021 00:41:37-INFO     ---> Package python3-libs.x86_64 0:3.7.9-1.amzn2.0.2 will be an update\n",
      "27Mar2021 00:41:38-INFO     ---> Package python3-test.x86_64 0:3.7.9-1.amzn2.0.1 will be updated\n",
      "27Mar2021 00:41:38-INFO     ---> Package python3-test.x86_64 0:3.7.9-1.amzn2.0.2 will be an update\n",
      "27Mar2021 00:41:38-INFO     ---> Package python3-tkinter.x86_64 0:3.7.9-1.amzn2.0.1 will be updated\n",
      "27Mar2021 00:41:38-INFO     ---> Package python3-tkinter.x86_64 0:3.7.9-1.amzn2.0.2 will be an update\n",
      "27Mar2021 00:41:38-INFO     ---> Package python3-tools.x86_64 0:3.7.9-1.amzn2.0.1 will be obsoleted\n",
      "27Mar2021 00:41:38-INFO     ---> Package python3-tools.x86_64 0:3.7.9-1.amzn2.0.1 will be updated\n",
      "27Mar2021 00:41:38-INFO     ---> Package python3-tools.x86_64 0:3.7.9-1.amzn2.0.2 will be obsoleting\n",
      "27Mar2021 00:41:38-INFO     --> Finished Dependency Resolution\n",
      "27Mar2021 00:41:38-INFO     \n",
      "27Mar2021 00:41:38-INFO     Dependencies Resolved\n",
      "27Mar2021 00:41:38-INFO     \n",
      "27Mar2021 00:41:38-INFO     ================================================================================\n",
      "27Mar2021 00:41:38-INFO      Package                Arch      Version                 Repository       Size\n",
      "27Mar2021 00:41:38-INFO     ================================================================================\n",
      "27Mar2021 00:41:38-INFO     Installing:\n",
      "27Mar2021 00:41:38-INFO      python3-tools          x86_64    3.7.9-1.amzn2.0.2       amzn2-core      846 k\n",
      "27Mar2021 00:41:38-INFO          replacing  python3-tools.x86_64 3.7.9-1.amzn2.0.1\n",
      "27Mar2021 00:41:38-INFO      python37-setuptools    noarch    44.0.0-1                emr-platform    959 k\n",
      "27Mar2021 00:41:38-INFO     Updating:\n",
      "27Mar2021 00:41:38-INFO      python3                x86_64    3.7.9-1.amzn2.0.2       amzn2-core       72 k\n",
      "27Mar2021 00:41:38-INFO     Updating for dependencies:\n",
      "27Mar2021 00:41:38-INFO      python3-libs           x86_64    3.7.9-1.amzn2.0.2       amzn2-core      9.2 M\n",
      "27Mar2021 00:41:38-INFO      python3-test           x86_64    3.7.9-1.amzn2.0.2       amzn2-core      7.6 M\n",
      "27Mar2021 00:41:38-INFO      python3-tkinter        x86_64    3.7.9-1.amzn2.0.2       amzn2-core      372 k\n",
      "27Mar2021 00:41:38-INFO     \n",
      "27Mar2021 00:41:38-INFO     Transaction Summary\n",
      "27Mar2021 00:41:38-INFO     ================================================================================\n",
      "27Mar2021 00:41:38-INFO     Install  2 Packages\n",
      "27Mar2021 00:41:38-INFO     Upgrade  1 Package  (+3 Dependent packages)\n",
      "27Mar2021 00:41:38-INFO     \n",
      "27Mar2021 00:41:38-INFO     Total download size: 19 M\n",
      "27Mar2021 00:41:38-INFO     Downloading packages:\n",
      "27Mar2021 00:41:38-INFO     Delta RPMs disabled because /usr/bin/applydeltarpm not installed.\n",
      "27Mar2021 00:41:38-INFO     --------------------------------------------------------------------------------\n",
      "27Mar2021 00:41:38-INFO     Total                                               53 MB/s |  19 MB  00:00\n",
      "27Mar2021 00:41:38-INFO     Running transaction check\n",
      "27Mar2021 00:41:39-INFO     Running transaction test\n",
      "27Mar2021 00:41:39-INFO     Transaction test succeeded\n",
      "27Mar2021 00:41:39-INFO     Running transaction\n",
      "27Mar2021 00:41:40-INFO       Updating   : python3-libs-3.7.9-1.amzn2.0.2.x86_64                       1/11\n",
      "27Mar2021 00:41:41-INFO       Updating   : python3-3.7.9-1.amzn2.0.2.x86_64                            2/11\n",
      "27Mar2021 00:41:41-INFO       Updating   : python3-tkinter-3.7.9-1.amzn2.0.2.x86_64                    3/11\n",
      "27Mar2021 00:41:43-INFO       Installing : python3-tools-3.7.9-1.amzn2.0.2.x86_64                      4/11\n",
      "27Mar2021 00:41:43-INFO       Updating   : python3-test-3.7.9-1.amzn2.0.2.x86_64                       5/11\n",
      "27Mar2021 00:41:43-INFO       Installing : python37-setuptools-44.0.0-1.noarch                         6/11\n",
      "27Mar2021 00:41:43-INFO       Cleanup    : python3-test-3.7.9-1.amzn2.0.1.x86_64                       7/11\n",
      "27Mar2021 00:41:43-INFO       Cleanup    : python3-tools-3.7.9-1.amzn2.0.1.x86_64                      8/11\n",
      "27Mar2021 00:41:43-INFO       Cleanup    : python3-tkinter-3.7.9-1.amzn2.0.1.x86_64                    9/11\n",
      "27Mar2021 00:41:43-INFO       Cleanup    : python3-libs-3.7.9-1.amzn2.0.1.x86_64                      10/11\n",
      "27Mar2021 00:41:43-INFO       Cleanup    : python3-3.7.9-1.amzn2.0.1.x86_64                           11/11\n",
      "27Mar2021 00:41:43-INFO       Verifying  : python3-3.7.9-1.amzn2.0.2.x86_64                            1/11\n",
      "27Mar2021 00:41:43-INFO       Verifying  : python37-setuptools-44.0.0-1.noarch                         2/11\n",
      "27Mar2021 00:41:43-INFO       Verifying  : python3-test-3.7.9-1.amzn2.0.2.x86_64                       3/11\n",
      "27Mar2021 00:41:43-INFO       Verifying  : python3-libs-3.7.9-1.amzn2.0.2.x86_64                       4/11\n",
      "27Mar2021 00:41:43-INFO       Verifying  : python3-tools-3.7.9-1.amzn2.0.2.x86_64                      5/11\n",
      "27Mar2021 00:41:43-INFO       Verifying  : python3-tkinter-3.7.9-1.amzn2.0.2.x86_64                    6/11\n",
      "27Mar2021 00:41:43-INFO       Verifying  : python3-tools-3.7.9-1.amzn2.0.1.x86_64                      7/11\n",
      "27Mar2021 00:41:43-INFO       Verifying  : python3-tools-3.7.9-1.amzn2.0.1.x86_64                      8/11\n",
      "27Mar2021 00:41:43-INFO       Verifying  : python3-3.7.9-1.amzn2.0.1.x86_64                            9/11\n",
      "27Mar2021 00:41:43-INFO       Verifying  : python3-tkinter-3.7.9-1.amzn2.0.1.x86_64                   10/11\n",
      "27Mar2021 00:41:43-INFO       Verifying  : python3-test-3.7.9-1.amzn2.0.1.x86_64                      11/11\n",
      "27Mar2021 00:41:43-INFO       Verifying  : python3-libs-3.7.9-1.amzn2.0.1.x86_64                      12/11\n",
      "27Mar2021 00:41:43-INFO     \n",
      "27Mar2021 00:41:43-INFO     Installed:\n",
      "27Mar2021 00:41:43-INFO       python3-tools.x86_64 0:3.7.9-1.amzn2.0.2\n",
      "27Mar2021 00:41:43-INFO       python37-setuptools.noarch 0:44.0.0-1\n",
      "27Mar2021 00:41:43-INFO     \n",
      "27Mar2021 00:41:43-INFO     Updated:\n",
      "27Mar2021 00:41:43-INFO       python3.x86_64 0:3.7.9-1.amzn2.0.2\n",
      "27Mar2021 00:41:43-INFO     \n",
      "27Mar2021 00:41:43-INFO     Dependency Updated:\n",
      "27Mar2021 00:41:43-INFO       python3-libs.x86_64 0:3.7.9-1.amzn2.0.2\n",
      "27Mar2021 00:41:43-INFO       python3-test.x86_64 0:3.7.9-1.amzn2.0.2\n",
      "27Mar2021 00:41:43-INFO       python3-tkinter.x86_64 0:3.7.9-1.amzn2.0.2\n",
      "27Mar2021 00:41:43-INFO     \n",
      "27Mar2021 00:41:43-INFO     Replaced:\n",
      "27Mar2021 00:41:43-INFO       python3-tools.x86_64 0:3.7.9-1.amzn2.0.1\n",
      "27Mar2021 00:41:43-INFO     \n",
      "27Mar2021 00:41:43-INFO     Complete!\n",
      "27Mar2021 00:41:45-INFO     Collecting pip\n",
      "27Mar2021 00:41:45-INFO       Downloading https://files.pythonhosted.org/packages/fe/ef/60d7ba03b5c442309ef42e7d69959f73aacccd0d86008362a681c4698e83/pip-21.0.1-py3-none-any.whl (1.5MB)\n",
      "27Mar2021 00:41:45-INFO     Installing collected packages: pip\n",
      "27Mar2021 00:41:45-INFO       Found existing installation: pip 9.0.3\n",
      "27Mar2021 00:41:45-INFO         Uninstalling pip-9.0.3:\n",
      "27Mar2021 00:41:45-INFO           Successfully uninstalled pip-9.0.3\n",
      "27Mar2021 00:41:46-INFO     Successfully installed pip-21.0.1\n",
      "27Mar2021 00:41:47-INFO     Collecting setuptools>=45\n",
      "27Mar2021 00:41:47-INFO       Downloading setuptools-54.2.0-py3-none-any.whl (785 kB)\n",
      "27Mar2021 00:41:48-INFO     Installing collected packages: setuptools\n",
      "27Mar2021 00:41:48-INFO       Attempting uninstall: setuptools\n",
      "27Mar2021 00:41:48-INFO         Found existing installation: setuptools 44.0.0\n",
      "27Mar2021 00:41:48-INFO         Uninstalling setuptools-44.0.0:\n",
      "27Mar2021 00:41:48-INFO           Successfully uninstalled setuptools-44.0.0\n",
      "27Mar2021 00:41:48-INFO     Successfully installed setuptools-54.2.0\n"
     ]
    }
   ],
   "source": [
    "#Install the software on master\n",
    "VERSION=c['config']['HAIL_VERSION']\n",
    "logger.info(f'Installing hail version {VERSION} et. al on Master')\n",
    "logger.warning(f'This is the public JupyterLab link: \"http://{master_IP}:8192\"')\n",
    "command='./install_hail_and_python.sh -v '+ VERSION\n",
    "logger.info(f'Executing remote command: \"{command}\"')\n",
    "stdin, stdout, stderr = client.exec_command('cd /home/hadoop/')\n",
    "stdin, stdout, stderr = client.exec_command(command)\n",
    "for line in stdout:\n",
    "    logger.info(line.rstrip())"
   ]
  },
  {
   "cell_type": "code",
   "execution_count": 15,
   "id": "earlier-wednesday",
   "metadata": {},
   "outputs": [
    {
     "name": "stderr",
     "output_type": "stream",
     "text": [
      "27Mar2021 00:41:50-ERROR    Warning: Permanently added '172.31.48.244' (ECDSA) to the list of known hosts.\n",
      "27Mar2021 00:41:50-ERROR    WARNING: Running pip install with root privileges is generally not a good idea. Try `__main__.py install --user` instead.\n",
      "27Mar2021 00:41:50-ERROR    ./install_python.sh: line 57: syntax error: unexpected end of file\n",
      "27Mar2021 00:41:50-ERROR    ./install_hail_and_python.sh: line 75: git: command not found\n",
      "27Mar2021 00:41:50-ERROR    ./install_hail_and_python.sh: line 76: cd: /opt/hail-on-AWS-spot-instances/src: No such file or directory\n",
      "27Mar2021 00:41:50-ERROR    ./install_hail_and_python.sh: line 79: ./build_hail.sh: No such file or directory\n",
      "27Mar2021 00:41:50-ERROR    ./install_hail_and_python.sh: line 102: ./jupyter_run.sh: No such file or directory\n"
     ]
    }
   ],
   "source": [
    "#If there were any errors, they would show up here\n",
    "for line in stderr:\n",
    "    logger.error(line.rstrip())"
   ]
  },
  {
   "cell_type": "code",
   "execution_count": 16,
   "id": "human-cliff",
   "metadata": {},
   "outputs": [
    {
     "name": "stderr",
     "output_type": "stream",
     "text": [
      "27Mar2021 00:41:50-INFO     Closing the client connection\n"
     ]
    }
   ],
   "source": [
    "# close the client connection\n",
    "logger.info('Closing the client connection')\n",
    "client.close()"
   ]
  },
  {
   "cell_type": "code",
   "execution_count": 17,
   "id": "respiratory-quantity",
   "metadata": {},
   "outputs": [
    {
     "name": "stderr",
     "output_type": "stream",
     "text": [
      "27Mar2021 00:41:50-WARNING  Successfully started ENR cluster \"j-S5SIXJCEFAI4\"\n"
     ]
    }
   ],
   "source": [
    "logger.warning(f'Successfully started ENR cluster \"{cluster_id}\"')"
   ]
  }
 ],
 "metadata": {
  "kernelspec": {
   "display_name": "Python 3",
   "language": "python",
   "name": "python3"
  },
  "language_info": {
   "codemirror_mode": {
    "name": "ipython",
    "version": 3
   },
   "file_extension": ".py",
   "mimetype": "text/x-python",
   "name": "python",
   "nbconvert_exporter": "python",
   "pygments_lexer": "ipython3",
   "version": "3.7.10"
  }
 },
 "nbformat": 4,
 "nbformat_minor": 5
}
